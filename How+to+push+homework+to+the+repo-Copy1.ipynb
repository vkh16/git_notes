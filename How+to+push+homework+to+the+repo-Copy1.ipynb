{
 "cells": [
  {
   "cell_type": "markdown",
   "metadata": {},
   "source": [
    "# How to push homework to the repo "
   ]
  },
  {
   "cell_type": "markdown",
   "metadata": {},
   "source": [
    "In general, I am finding this confusing. \n",
    "\n",
    "Frist of all, a repo is usually created by Martin that we can access by clicking on a link. This will generate a repo for each of the members of the class with our git username. \n",
    "\n",
    "Once this is available, you need to do the following: \n"
   ]
  },
  {
   "cell_type": "markdown",
   "metadata": {},
   "source": [
    "###  (1) Save your file to a location on the computer you can access easily through the shell/terminal \n",
    "\n",
    "I have been putting the files on the desktop into a new folder each time so that I can go to that location to push the files to the repo. "
   ]
  },
  {
   "cell_type": "markdown",
   "metadata": {},
   "source": [
    "### (2) Navigate to the folder where the file you want to push is located \n",
    "\n",
    "cd /Users/hillvk/desktop/03-loop-example-vkh16/"
   ]
  },
  {
   "cell_type": "markdown",
   "metadata": {},
   "source": [
    "### (2) Now it should be easy to push to the repo with the following commands: \n",
    "\n",
    "git init\n",
    "\n",
    "git add .\n",
    "\n",
    "git commit -m \"first commit\"\n",
    "\n",
    "git remote add origin  https://github.com/FAES-BIOF/03-loop-example-vkh16\n",
    "\n",
    "git push -u origin master "
   ]
  }
 ],
 "metadata": {
  "kernelspec": {
   "display_name": "Python 3",
   "language": "python",
   "name": "python3"
  },
  "language_info": {
   "codemirror_mode": {
    "name": "ipython",
    "version": 3
   },
   "file_extension": ".py",
   "mimetype": "text/x-python",
   "name": "python",
   "nbconvert_exporter": "python",
   "pygments_lexer": "ipython3",
   "version": "3.6.2"
  }
 },
 "nbformat": 4,
 "nbformat_minor": 2
}
